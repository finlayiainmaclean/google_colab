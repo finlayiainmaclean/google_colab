{
  "nbformat": 4,
  "nbformat_minor": 0,
  "metadata": {
    "orig_nbformat": 2,
    "colab": {
      "name": "colab.ipynb",
      "provenance": [],
      "collapsed_sections": []
    },
    "kernelspec": {
      "name": "python3",
      "display_name": "Python 3"
    }
  },
  "cells": [
    {
      "cell_type": "code",
      "metadata": {
        "id": "KWW-89ljoGqU",
        "colab": {
          "base_uri": "https://localhost:8080/"
        },
        "outputId": "5ded1ea1-5238-4df4-ddf4-9dbd68aca046"
      },
      "source": [
        "from google.colab import drive\n",
        "drive.mount('/content/drive')"
      ],
      "execution_count": 40,
      "outputs": [
        {
          "output_type": "stream",
          "text": [
            "Mounted at /content/drive\n"
          ],
          "name": "stdout"
        }
      ]
    },
    {
      "cell_type": "code",
      "metadata": {
        "colab": {
          "base_uri": "https://localhost:8080/"
        },
        "id": "VYsUrfKozYzl",
        "outputId": "1be93802-0f32-4c7d-cee5-cdbd0119e744"
      },
      "source": [
        "!pip install tqdm\n",
        "!rm -rf sample_data\n",
        "!rm -rf google_colab\n",
        "!git clone https://github.com/fmaclean/google_colab.git\n",
        "!wget https://repo.continuum.io/miniconda/Miniconda3-4.5.4-Linux-x86_64.sh && bash Miniconda3-4.5.4-Linux-x86_64.sh -bfp /usr/local\n",
        "!conda update conda -y -q\n",
        "!source /usr/local/etc/profile.d/conda.sh\n",
        "!conda init \n",
        "!conda install -n root _license -y -q\n",
        "!conda env create -f /content/google_colab/environment.yml\n",
        "!source activate google_colab && conda install -c rdkit rdkit -y \n",
        "!cd google_colab && source activate google_colab && pip install -e .\n",
        "!rm -rf google_colab/data\n",
        "!rm -rf google_colab/models\n",
        "!unzip drive/MyDrive/google_colab/data.zip -d google_colab/\n",
        "!unzip drive/MyDrive/google_colab/models.zip -d google_colab/\n",
        "%cd google_colab"
      ],
      "execution_count": 25,
      "outputs": [
        {
          "output_type": "stream",
          "text": [
            "Requirement already satisfied: tqdm in /usr/local/lib/python3.6/site-packages (4.56.0)\n",
            "\u001b[31mcryptography 3.3.1 has requirement cffi>=1.12, but you'll have cffi 1.11.5 which is incompatible.\u001b[0m\n",
            "Cloning into 'google_colab'...\n",
            "remote: Enumerating objects: 22705, done.\u001b[K\n",
            "remote: Counting objects: 100% (22705/22705), done.\u001b[K\n",
            "remote: Compressing objects: 100% (15472/15472), done.\u001b[K\n",
            "remote: Total 22705 (delta 6308), reused 22697 (delta 6300), pack-reused 0\u001b[K\n",
            "Receiving objects: 100% (22705/22705), 45.93 MiB | 18.55 MiB/s, done.\n",
            "Resolving deltas: 100% (6308/6308), done.\n",
            "--2021-01-16 17:03:00--  https://repo.continuum.io/miniconda/Miniconda3-4.5.4-Linux-x86_64.sh\n",
            "Resolving repo.continuum.io (repo.continuum.io)... 104.18.200.79, 104.18.201.79, 2606:4700::6812:c94f, ...\n",
            "Connecting to repo.continuum.io (repo.continuum.io)|104.18.200.79|:443... connected.\n",
            "HTTP request sent, awaiting response... 301 Moved Permanently\n",
            "Location: https://repo.anaconda.com/miniconda/Miniconda3-4.5.4-Linux-x86_64.sh [following]\n",
            "--2021-01-16 17:03:00--  https://repo.anaconda.com/miniconda/Miniconda3-4.5.4-Linux-x86_64.sh\n",
            "Resolving repo.anaconda.com (repo.anaconda.com)... 104.16.130.3, 104.16.131.3, 2606:4700::6810:8203, ...\n",
            "Connecting to repo.anaconda.com (repo.anaconda.com)|104.16.130.3|:443... connected.\n",
            "HTTP request sent, awaiting response... 200 OK\n",
            "Length: 58468498 (56M) [application/x-sh]\n",
            "Saving to: ‘Miniconda3-4.5.4-Linux-x86_64.sh.5’\n",
            "\n",
            "Miniconda3-4.5.4-Li 100%[===================>]  55.76M   158MB/s    in 0.4s    \n",
            "\n",
            "2021-01-16 17:03:00 (158 MB/s) - ‘Miniconda3-4.5.4-Linux-x86_64.sh.5’ saved [58468498/58468498]\n",
            "\n",
            "PREFIX=/usr/local\n",
            "installing: python-3.6.5-hc3d631a_2 ...\n",
            "Python 3.6.5 :: Anaconda, Inc.\n",
            "installing: ca-certificates-2018.03.07-0 ...\n",
            "installing: conda-env-2.6.0-h36134e3_1 ...\n",
            "installing: libgcc-ng-7.2.0-hdf63c60_3 ...\n",
            "installing: libstdcxx-ng-7.2.0-hdf63c60_3 ...\n",
            "installing: libffi-3.2.1-hd88cf55_4 ...\n",
            "installing: ncurses-6.1-hf484d3e_0 ...\n",
            "installing: openssl-1.0.2o-h20670df_0 ...\n",
            "installing: tk-8.6.7-hc745277_3 ...\n",
            "installing: xz-5.2.4-h14c3975_4 ...\n",
            "installing: yaml-0.1.7-had09818_2 ...\n",
            "installing: zlib-1.2.11-ha838bed_2 ...\n",
            "installing: libedit-3.1.20170329-h6b74fdf_2 ...\n",
            "installing: readline-7.0-ha6073c6_4 ...\n",
            "installing: sqlite-3.23.1-he433501_0 ...\n",
            "installing: asn1crypto-0.24.0-py36_0 ...\n",
            "installing: certifi-2018.4.16-py36_0 ...\n",
            "installing: chardet-3.0.4-py36h0f667ec_1 ...\n",
            "installing: idna-2.6-py36h82fb2a8_1 ...\n",
            "installing: pycosat-0.6.3-py36h0a5515d_0 ...\n",
            "installing: pycparser-2.18-py36hf9f622e_1 ...\n",
            "installing: pysocks-1.6.8-py36_0 ...\n",
            "installing: ruamel_yaml-0.15.37-py36h14c3975_2 ...\n",
            "installing: six-1.11.0-py36h372c433_1 ...\n",
            "installing: cffi-1.11.5-py36h9745a5d_0 ...\n",
            "installing: setuptools-39.2.0-py36_0 ...\n",
            "installing: cryptography-2.2.2-py36h14c3975_0 ...\n",
            "installing: wheel-0.31.1-py36_0 ...\n",
            "installing: pip-10.0.1-py36_0 ...\n",
            "installing: pyopenssl-18.0.0-py36_0 ...\n",
            "installing: urllib3-1.22-py36hbe7ace6_0 ...\n",
            "installing: requests-2.18.4-py36he2e5f8d_1 ...\n",
            "installing: conda-4.5.4-py36_0 ...\n",
            "unlinking: ca-certificates-2020.12.8-h06a4308_0\n",
            "unlinking: certifi-2020.12.5-py36h06a4308_0\n",
            "unlinking: conda-4.9.2-py36h06a4308_0\n",
            "unlinking: cryptography-3.3.1-py36h3c74f83_0\n",
            "unlinking: libgcc-ng-9.1.0-hdf63c60_0\n",
            "unlinking: libstdcxx-ng-9.1.0-hdf63c60_0\n",
            "unlinking: openssl-1.1.1i-h27cfd23_0\n",
            "unlinking: python-3.6.8-h0371630_0\n",
            "unlinking: sqlite-3.26.0-h7b6447c_0\n",
            "unlinking: tk-8.6.10-hbc83047_0\n",
            "installation finished.\n",
            "WARNING:\n",
            "    You currently have a PYTHONPATH environment variable set. This may cause\n",
            "    unexpected behavior when running the Python interpreter in Miniconda3.\n",
            "    For best results, please verify that your PYTHONPATH only points to\n",
            "    directories of packages that are compatible with the Python interpreter\n",
            "    in Miniconda3: /usr/local\n",
            "Solving environment: ...working... done\n",
            "\n",
            "## Package Plan ##\n",
            "\n",
            "  environment location: /usr/local\n",
            "\n",
            "  added / updated specs: \n",
            "    - conda\n",
            "\n",
            "\n",
            "The following packages will be UPDATED:\n",
            "\n",
            "    ca-certificates: 2018.03.07-0         --> 2020.12.8-h06a4308_0    \n",
            "    certifi:         2018.4.16-py36_0     --> 2020.12.5-py36h06a4308_0\n",
            "    conda:           4.5.4-py36_0         --> 4.9.2-py36h06a4308_0    \n",
            "    cryptography:    2.2.2-py36h14c3975_0 --> 3.3.1-py36h3c74f83_0    \n",
            "    libgcc-ng:       7.2.0-hdf63c60_3     --> 9.1.0-hdf63c60_0        \n",
            "    libstdcxx-ng:    7.2.0-hdf63c60_3     --> 9.1.0-hdf63c60_0        \n",
            "    openssl:         1.0.2o-h20670df_0    --> 1.1.1i-h27cfd23_0       \n",
            "    python:          3.6.5-hc3d631a_2     --> 3.6.8-h0371630_0        \n",
            "    sqlite:          3.23.1-he433501_0    --> 3.26.0-h7b6447c_0       \n",
            "    tk:              8.6.7-hc745277_3     --> 8.6.10-hbc83047_0       \n",
            "\n",
            "Preparing transaction: ...working... done\n",
            "Verifying transaction: ...working... done\n",
            "Executing transaction: ...working... done\n",
            "no change     /usr/local/condabin/conda\n",
            "no change     /usr/local/bin/conda\n",
            "no change     /usr/local/bin/conda-env\n",
            "no change     /usr/local/bin/activate\n",
            "no change     /usr/local/bin/deactivate\n",
            "no change     /usr/local/etc/profile.d/conda.sh\n",
            "no change     /usr/local/etc/fish/conf.d/conda.fish\n",
            "no change     /usr/local/shell/condabin/Conda.psm1\n",
            "no change     /usr/local/shell/condabin/conda-hook.ps1\n",
            "no change     /usr/local/lib/python3.6/site-packages/xontrib/conda.xsh\n",
            "no change     /usr/local/etc/profile.d/conda.csh\n",
            "no change     /root/.bashrc\n",
            "No action taken.\n",
            "Collecting package metadata (current_repodata.json): ...working... done\n",
            "Solving environment: ...working... failed with initial frozen solve. Retrying with flexible solve.\n",
            "Collecting package metadata (repodata.json): ...working... done\n",
            "Solving environment: ...working... failed with initial frozen solve. Retrying with flexible solve.\n",
            "\n",
            "PackagesNotFoundError: The following packages are not available from current channels:\n",
            "\n",
            "  - _license\n",
            "\n",
            "Current channels:\n",
            "\n",
            "  - https://repo.anaconda.com/pkgs/main/linux-64\n",
            "  - https://repo.anaconda.com/pkgs/main/noarch\n",
            "  - https://repo.anaconda.com/pkgs/r/linux-64\n",
            "  - https://repo.anaconda.com/pkgs/r/noarch\n",
            "\n",
            "To search for alternate channels that may provide the conda package you're\n",
            "looking for, navigate to\n",
            "\n",
            "    https://anaconda.org\n",
            "\n",
            "and use the search bar at the top of the page.\n",
            "\n",
            "\n",
            "\n",
            "CondaValueError: prefix already exists: /usr/local/envs/google_colab\n",
            "\n",
            "Collecting package metadata (current_repodata.json): - \b\b\\ \b\b| \b\b/ \b\b- \b\b\\ \b\b| \b\b/ \b\bdone\n",
            "Solving environment: \\ \b\b| \b\b/ \b\b- \b\b\\ \b\b| \b\b/ \b\bdone\n",
            "\n",
            "# All requested packages already installed.\n",
            "\n",
            "Obtaining file:///content/google_colab\n",
            "Installing collected packages: src\n",
            "  Running setup.py develop for src\n",
            "Successfully installed src\n",
            "Archive:  drive/MyDrive/google_colab/data.zip\n",
            "  inflating: google_colab/data/external/test.csv  \n",
            "  inflating: google_colab/data/external/.gitkeep  \n",
            "  inflating: google_colab/data/interim/.gitkeep  \n",
            "  inflating: google_colab/data/processed/.gitkeep  \n",
            "  inflating: google_colab/data/raw/.gitkeep  \n",
            "Archive:  drive/MyDrive/google_colab/models.zip\n",
            "  inflating: google_colab/models/.gitkeep  \n",
            "/content/google_colab\n"
          ],
          "name": "stdout"
        }
      ]
    },
    {
      "cell_type": "code",
      "metadata": {
        "colab": {
          "base_uri": "https://localhost:8080/"
        },
        "id": "wLQyZLyD6Bla",
        "outputId": "2488fb88-b462-46ad-c197-0cf99ce263a1"
      },
      "source": [
        "!source activate google_colab && python src/colab.py"
      ],
      "execution_count": 45,
      "outputs": [
        {
          "output_type": "stream",
          "text": [
            "/content/google_colab\n",
            "   0  ...   2\n",
            "0  8  ...  24\n",
            "\n",
            "[1 rows x 3 columns]\n"
          ],
          "name": "stdout"
        }
      ]
    },
    {
      "cell_type": "code",
      "metadata": {
        "id": "2gohvg2fp2wS",
        "colab": {
          "base_uri": "https://localhost:8080/"
        },
        "outputId": "90cc6bdb-6fc5-483a-f8e8-6857092dbf12"
      },
      "source": [
        "import zipfile\n",
        "import os\n",
        "def _zipdir(path, ziph):\n",
        "    # ziph is zipfile handle\n",
        "    for root, dirs, files in os.walk(path):\n",
        "        for file in files:\n",
        "            ziph.write(os.path.join(root, file), os.path.relpath(os.path.join(root, file), os.path.join(path, '..')))\n",
        "\n",
        "def zipdir(folder):\n",
        "  zipf = zipfile.ZipFile(f'{folder}.zip', 'w', zipfile.ZIP_DEFLATED)\n",
        "  _zipdir(f'{folder}/', zipf)\n",
        "  zipf.close()\n",
        "\n",
        "\n",
        "[zipdir(folder) for folder in ['data','models']];\n",
        "print(\"Files zipped\")\n",
        "\n",
        "%cd /content\n",
        "!cp -r data.zip /content/drive/MyDrive/google_colab/\n",
        "!cp -r models.zip /content/drive/MyDrive/google_colab/\n",
        "print(\"Files copied to google drive\")\n",
        "drive.flush_and_unmount()"
      ],
      "execution_count": 46,
      "outputs": [
        {
          "output_type": "stream",
          "text": [
            "Files zipped\n",
            "/content\n",
            "cp: cannot create regular file '/content/drive/MyDrive/google_colab/': No such file or directory\n",
            "cp: cannot create regular file '/content/drive/MyDrive/google_colab/': No such file or directory\n",
            "Files copied to google drive\n",
            "Drive not mounted, so nothing to flush and unmount.\n"
          ],
          "name": "stdout"
        }
      ]
    }
  ]
}